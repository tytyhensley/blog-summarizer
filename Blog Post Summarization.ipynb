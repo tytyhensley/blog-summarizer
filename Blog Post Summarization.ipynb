{
 "cells": [
  {
   "cell_type": "markdown",
   "id": "dd4918b6",
   "metadata": {},
   "source": [
    "# Blog Post Summarization App"
   ]
  },
  {
   "cell_type": "markdown",
   "id": "6e245146",
   "metadata": {},
   "source": [
    "> This is a simple summarization app that scrapes the blog post from a specific URL using Beautiful Soup and then summarizes with a Hugginface pipeline "
   ]
  },
  {
   "cell_type": "markdown",
   "id": "4097adc2",
   "metadata": {},
   "source": [
    "# Dependencies"
   ]
  },
  {
   "cell_type": "code",
   "execution_count": 2,
   "id": "eaa18657",
   "metadata": {},
   "outputs": [
    {
     "name": "stdout",
     "output_type": "stream",
     "text": [
      "Requirement already satisfied: transformers in c:\\users\\tyeec\\appdata\\local\\programs\\python\\python39\\lib\\site-packages (4.16.2)\n",
      "Requirement already satisfied: numpy>=1.17 in c:\\users\\tyeec\\appdata\\local\\programs\\python\\python39\\lib\\site-packages (from transformers) (1.20.2)\n",
      "Requirement already satisfied: tokenizers!=0.11.3,>=0.10.1 in c:\\users\\tyeec\\appdata\\local\\programs\\python\\python39\\lib\\site-packages (from transformers) (0.11.6)\n",
      "Requirement already satisfied: pyyaml>=5.1 in c:\\users\\tyeec\\appdata\\local\\programs\\python\\python39\\lib\\site-packages (from transformers) (6.0)\n",
      "Requirement already satisfied: tqdm>=4.27 in c:\\users\\tyeec\\appdata\\local\\programs\\python\\python39\\lib\\site-packages (from transformers) (4.63.0)\n",
      "Requirement already satisfied: huggingface-hub<1.0,>=0.1.0 in c:\\users\\tyeec\\appdata\\local\\programs\\python\\python39\\lib\\site-packages (from transformers) (0.4.0)\n",
      "Requirement already satisfied: packaging>=20.0 in c:\\users\\tyeec\\appdata\\local\\programs\\python\\python39\\lib\\site-packages (from transformers) (20.9)\n",
      "Requirement already satisfied: requests in c:\\users\\tyeec\\appdata\\local\\programs\\python\\python39\\lib\\site-packages (from transformers) (2.27.1)\n",
      "Requirement already satisfied: filelock in c:\\users\\tyeec\\appdata\\local\\programs\\python\\python39\\lib\\site-packages (from transformers) (3.6.0)\n",
      "Requirement already satisfied: sacremoses in c:\\users\\tyeec\\appdata\\local\\programs\\python\\python39\\lib\\site-packages (from transformers) (0.0.47)\n",
      "Requirement already satisfied: regex!=2019.12.17 in c:\\users\\tyeec\\appdata\\local\\programs\\python\\python39\\lib\\site-packages (from transformers) (2022.1.18)\n",
      "Requirement already satisfied: typing-extensions>=3.7.4.3 in c:\\users\\tyeec\\appdata\\local\\programs\\python\\python39\\lib\\site-packages (from huggingface-hub<1.0,>=0.1.0->transformers) (4.1.1)\n",
      "Requirement already satisfied: pyparsing>=2.0.2 in c:\\users\\tyeec\\appdata\\local\\programs\\python\\python39\\lib\\site-packages (from packaging>=20.0->transformers) (2.4.7)\n",
      "Requirement already satisfied: colorama in c:\\users\\tyeec\\appdata\\local\\programs\\python\\python39\\lib\\site-packages (from tqdm>=4.27->transformers) (0.4.4)\n",
      "Requirement already satisfied: charset-normalizer~=2.0.0 in c:\\users\\tyeec\\appdata\\local\\programs\\python\\python39\\lib\\site-packages (from requests->transformers) (2.0.12)\n",
      "Requirement already satisfied: urllib3<1.27,>=1.21.1 in c:\\users\\tyeec\\appdata\\local\\programs\\python\\python39\\lib\\site-packages (from requests->transformers) (1.26.8)\n",
      "Requirement already satisfied: certifi>=2017.4.17 in c:\\users\\tyeec\\appdata\\local\\programs\\python\\python39\\lib\\site-packages (from requests->transformers) (2021.10.8)\n",
      "Requirement already satisfied: idna<4,>=2.5 in c:\\users\\tyeec\\appdata\\local\\programs\\python\\python39\\lib\\site-packages (from requests->transformers) (3.3)\n",
      "Requirement already satisfied: six in c:\\users\\tyeec\\appdata\\local\\programs\\python\\python39\\lib\\site-packages (from sacremoses->transformers) (1.15.0)\n",
      "Requirement already satisfied: click in c:\\users\\tyeec\\appdata\\local\\programs\\python\\python39\\lib\\site-packages (from sacremoses->transformers) (8.0.4)\n",
      "Requirement already satisfied: joblib in c:\\users\\tyeec\\appdata\\local\\programs\\python\\python39\\lib\\site-packages (from sacremoses->transformers) (1.1.0)\n"
     ]
    },
    {
     "name": "stderr",
     "output_type": "stream",
     "text": [
      "WARNING: You are using pip version 21.1.1; however, version 22.0.3 is available.\n",
      "You should consider upgrading via the 'c:\\users\\tyeec\\appdata\\local\\programs\\python\\python39\\python.exe -m pip install --upgrade pip' command.\n"
     ]
    },
    {
     "name": "stdout",
     "output_type": "stream",
     "text": [
      "Requirement already satisfied: ipywidgets in c:\\users\\tyeec\\appdata\\local\\programs\\python\\python39\\lib\\site-packages (7.6.5)\n",
      "Requirement already satisfied: ipython-genutils~=0.2.0 in c:\\users\\tyeec\\appdata\\local\\programs\\python\\python39\\lib\\site-packages (from ipywidgets) (0.2.0)\n",
      "Requirement already satisfied: traitlets>=4.3.1 in c:\\users\\tyeec\\appdata\\local\\programs\\python\\python39\\lib\\site-packages (from ipywidgets) (5.0.5)\n",
      "Requirement already satisfied: ipython>=4.0.0 in c:\\users\\tyeec\\appdata\\local\\programs\\python\\python39\\lib\\site-packages (from ipywidgets) (7.22.0)\n",
      "Requirement already satisfied: widgetsnbextension~=3.5.0 in c:\\users\\tyeec\\appdata\\local\\programs\\python\\python39\\lib\\site-packages (from ipywidgets) (3.5.1)\n",
      "Requirement already satisfied: nbformat>=4.2.0 in c:\\users\\tyeec\\appdata\\local\\programs\\python\\python39\\lib\\site-packages (from ipywidgets) (5.1.3)\n",
      "Requirement already satisfied: jupyterlab-widgets>=1.0.0 in c:\\users\\tyeec\\appdata\\local\\programs\\python\\python39\\lib\\site-packages (from ipywidgets) (1.0.0)\n",
      "Requirement already satisfied: ipykernel>=4.5.1 in c:\\users\\tyeec\\appdata\\local\\programs\\python\\python39\\lib\\site-packages (from ipywidgets) (5.5.3)\n",
      "Requirement already satisfied: jupyter-client in c:\\users\\tyeec\\appdata\\local\\programs\\python\\python39\\lib\\site-packages (from ipykernel>=4.5.1->ipywidgets) (6.1.12)\n",
      "Requirement already satisfied: tornado>=4.2 in c:\\users\\tyeec\\appdata\\local\\programs\\python\\python39\\lib\\site-packages (from ipykernel>=4.5.1->ipywidgets) (6.1)\n",
      "Requirement already satisfied: setuptools>=18.5 in c:\\users\\tyeec\\appdata\\local\\programs\\python\\python39\\lib\\site-packages (from ipython>=4.0.0->ipywidgets) (56.0.0)\n",
      "Requirement already satisfied: pickleshare in c:\\users\\tyeec\\appdata\\local\\programs\\python\\python39\\lib\\site-packages (from ipython>=4.0.0->ipywidgets) (0.7.5)\n",
      "Requirement already satisfied: colorama in c:\\users\\tyeec\\appdata\\local\\programs\\python\\python39\\lib\\site-packages (from ipython>=4.0.0->ipywidgets) (0.4.4)\n",
      "Requirement already satisfied: pygments in c:\\users\\tyeec\\appdata\\local\\programs\\python\\python39\\lib\\site-packages (from ipython>=4.0.0->ipywidgets) (2.8.1)\n",
      "Requirement already satisfied: decorator in c:\\users\\tyeec\\appdata\\local\\programs\\python\\python39\\lib\\site-packages (from ipython>=4.0.0->ipywidgets) (5.0.7)\n",
      "Requirement already satisfied: jedi>=0.16 in c:\\users\\tyeec\\appdata\\local\\programs\\python\\python39\\lib\\site-packages (from ipython>=4.0.0->ipywidgets) (0.18.0)\n",
      "Requirement already satisfied: backcall in c:\\users\\tyeec\\appdata\\local\\programs\\python\\python39\\lib\\site-packages (from ipython>=4.0.0->ipywidgets) (0.2.0)\n",
      "Requirement already satisfied: prompt-toolkit!=3.0.0,!=3.0.1,<3.1.0,>=2.0.0 in c:\\users\\tyeec\\appdata\\local\\programs\\python\\python39\\lib\\site-packages (from ipython>=4.0.0->ipywidgets) (3.0.18)\n",
      "Requirement already satisfied: parso<0.9.0,>=0.8.0 in c:\\users\\tyeec\\appdata\\local\\programs\\python\\python39\\lib\\site-packages (from jedi>=0.16->ipython>=4.0.0->ipywidgets) (0.8.2)\n",
      "Requirement already satisfied: jsonschema!=2.5.0,>=2.4 in c:\\users\\tyeec\\appdata\\local\\programs\\python\\python39\\lib\\site-packages (from nbformat>=4.2.0->ipywidgets) (3.2.0)\n",
      "Requirement already satisfied: jupyter-core in c:\\users\\tyeec\\appdata\\local\\programs\\python\\python39\\lib\\site-packages (from nbformat>=4.2.0->ipywidgets) (4.7.1)\n",
      "Requirement already satisfied: attrs>=17.4.0 in c:\\users\\tyeec\\appdata\\local\\programs\\python\\python39\\lib\\site-packages (from jsonschema!=2.5.0,>=2.4->nbformat>=4.2.0->ipywidgets) (20.3.0)\n",
      "Requirement already satisfied: six>=1.11.0 in c:\\users\\tyeec\\appdata\\local\\programs\\python\\python39\\lib\\site-packages (from jsonschema!=2.5.0,>=2.4->nbformat>=4.2.0->ipywidgets) (1.15.0)\n",
      "Requirement already satisfied: pyrsistent>=0.14.0 in c:\\users\\tyeec\\appdata\\local\\programs\\python\\python39\\lib\\site-packages (from jsonschema!=2.5.0,>=2.4->nbformat>=4.2.0->ipywidgets) (0.17.3)\n",
      "Requirement already satisfied: wcwidth in c:\\users\\tyeec\\appdata\\local\\programs\\python\\python39\\lib\\site-packages (from prompt-toolkit!=3.0.0,!=3.0.1,<3.1.0,>=2.0.0->ipython>=4.0.0->ipywidgets) (0.2.5)\n",
      "Requirement already satisfied: notebook>=4.4.1 in c:\\users\\tyeec\\appdata\\local\\programs\\python\\python39\\lib\\site-packages (from widgetsnbextension~=3.5.0->ipywidgets) (6.3.0)\n",
      "Requirement already satisfied: terminado>=0.8.3 in c:\\users\\tyeec\\appdata\\local\\programs\\python\\python39\\lib\\site-packages (from notebook>=4.4.1->widgetsnbextension~=3.5.0->ipywidgets) (0.9.4)\n",
      "Requirement already satisfied: pyzmq>=17 in c:\\users\\tyeec\\appdata\\local\\programs\\python\\python39\\lib\\site-packages (from notebook>=4.4.1->widgetsnbextension~=3.5.0->ipywidgets) (22.0.3)\n",
      "Requirement already satisfied: nbconvert in c:\\users\\tyeec\\appdata\\local\\programs\\python\\python39\\lib\\site-packages (from notebook>=4.4.1->widgetsnbextension~=3.5.0->ipywidgets) (6.0.7)\n",
      "Requirement already satisfied: jinja2 in c:\\users\\tyeec\\appdata\\local\\programs\\python\\python39\\lib\\site-packages (from notebook>=4.4.1->widgetsnbextension~=3.5.0->ipywidgets) (2.11.3)\n",
      "Requirement already satisfied: prometheus-client in c:\\users\\tyeec\\appdata\\local\\programs\\python\\python39\\lib\\site-packages (from notebook>=4.4.1->widgetsnbextension~=3.5.0->ipywidgets) (0.10.1)\n",
      "Requirement already satisfied: Send2Trash>=1.5.0 in c:\\users\\tyeec\\appdata\\local\\programs\\python\\python39\\lib\\site-packages (from notebook>=4.4.1->widgetsnbextension~=3.5.0->ipywidgets) (1.5.0)\n",
      "Requirement already satisfied: argon2-cffi in c:\\users\\tyeec\\appdata\\local\\programs\\python\\python39\\lib\\site-packages (from notebook>=4.4.1->widgetsnbextension~=3.5.0->ipywidgets) (20.1.0)\n",
      "Requirement already satisfied: python-dateutil>=2.1 in c:\\users\\tyeec\\appdata\\local\\programs\\python\\python39\\lib\\site-packages (from jupyter-client->ipykernel>=4.5.1->ipywidgets) (2.8.1)\n",
      "Requirement already satisfied: pywin32>=1.0 in c:\\users\\tyeec\\appdata\\local\\programs\\python\\python39\\lib\\site-packages (from jupyter-core->nbformat>=4.2.0->ipywidgets) (300)\n",
      "Requirement already satisfied: pywinpty>=0.5 in c:\\users\\tyeec\\appdata\\local\\programs\\python\\python39\\lib\\site-packages (from terminado>=0.8.3->notebook>=4.4.1->widgetsnbextension~=3.5.0->ipywidgets) (0.5.7)\n",
      "Requirement already satisfied: cffi>=1.0.0 in c:\\users\\tyeec\\appdata\\local\\programs\\python\\python39\\lib\\site-packages (from argon2-cffi->notebook>=4.4.1->widgetsnbextension~=3.5.0->ipywidgets) (1.14.5)\n",
      "Requirement already satisfied: pycparser in c:\\users\\tyeec\\appdata\\local\\programs\\python\\python39\\lib\\site-packages (from cffi>=1.0.0->argon2-cffi->notebook>=4.4.1->widgetsnbextension~=3.5.0->ipywidgets) (2.20)\n",
      "Requirement already satisfied: MarkupSafe>=0.23 in c:\\users\\tyeec\\appdata\\local\\programs\\python\\python39\\lib\\site-packages (from jinja2->notebook>=4.4.1->widgetsnbextension~=3.5.0->ipywidgets) (1.1.1)\n",
      "Requirement already satisfied: bleach in c:\\users\\tyeec\\appdata\\local\\programs\\python\\python39\\lib\\site-packages (from nbconvert->notebook>=4.4.1->widgetsnbextension~=3.5.0->ipywidgets) (3.3.0)\n",
      "Requirement already satisfied: defusedxml in c:\\users\\tyeec\\appdata\\local\\programs\\python\\python39\\lib\\site-packages (from nbconvert->notebook>=4.4.1->widgetsnbextension~=3.5.0->ipywidgets) (0.7.1)\n",
      "Requirement already satisfied: jupyterlab-pygments in c:\\users\\tyeec\\appdata\\local\\programs\\python\\python39\\lib\\site-packages (from nbconvert->notebook>=4.4.1->widgetsnbextension~=3.5.0->ipywidgets) (0.1.2)\n",
      "Requirement already satisfied: pandocfilters>=1.4.1 in c:\\users\\tyeec\\appdata\\local\\programs\\python\\python39\\lib\\site-packages (from nbconvert->notebook>=4.4.1->widgetsnbextension~=3.5.0->ipywidgets) (1.4.3)\n",
      "Requirement already satisfied: testpath in c:\\users\\tyeec\\appdata\\local\\programs\\python\\python39\\lib\\site-packages (from nbconvert->notebook>=4.4.1->widgetsnbextension~=3.5.0->ipywidgets) (0.4.4)\n",
      "Requirement already satisfied: entrypoints>=0.2.2 in c:\\users\\tyeec\\appdata\\local\\programs\\python\\python39\\lib\\site-packages (from nbconvert->notebook>=4.4.1->widgetsnbextension~=3.5.0->ipywidgets) (0.3)\n",
      "Requirement already satisfied: nbclient<0.6.0,>=0.5.0 in c:\\users\\tyeec\\appdata\\local\\programs\\python\\python39\\lib\\site-packages (from nbconvert->notebook>=4.4.1->widgetsnbextension~=3.5.0->ipywidgets) (0.5.3)\n",
      "Requirement already satisfied: mistune<2,>=0.8.1 in c:\\users\\tyeec\\appdata\\local\\programs\\python\\python39\\lib\\site-packages (from nbconvert->notebook>=4.4.1->widgetsnbextension~=3.5.0->ipywidgets) (0.8.4)\n",
      "Requirement already satisfied: async-generator in c:\\users\\tyeec\\appdata\\local\\programs\\python\\python39\\lib\\site-packages (from nbclient<0.6.0,>=0.5.0->nbconvert->notebook>=4.4.1->widgetsnbextension~=3.5.0->ipywidgets) (1.10)\n",
      "Requirement already satisfied: nest-asyncio in c:\\users\\tyeec\\appdata\\local\\programs\\python\\python39\\lib\\site-packages (from nbclient<0.6.0,>=0.5.0->nbconvert->notebook>=4.4.1->widgetsnbextension~=3.5.0->ipywidgets) (1.5.1)\n",
      "Requirement already satisfied: webencodings in c:\\users\\tyeec\\appdata\\local\\programs\\python\\python39\\lib\\site-packages (from bleach->nbconvert->notebook>=4.4.1->widgetsnbextension~=3.5.0->ipywidgets) (0.5.1)\n",
      "Requirement already satisfied: packaging in c:\\users\\tyeec\\appdata\\local\\programs\\python\\python39\\lib\\site-packages (from bleach->nbconvert->notebook>=4.4.1->widgetsnbextension~=3.5.0->ipywidgets) (20.9)\n",
      "Requirement already satisfied: pyparsing>=2.0.2 in c:\\users\\tyeec\\appdata\\local\\programs\\python\\python39\\lib\\site-packages (from packaging->bleach->nbconvert->notebook>=4.4.1->widgetsnbextension~=3.5.0->ipywidgets) (2.4.7)\n"
     ]
    },
    {
     "name": "stderr",
     "output_type": "stream",
     "text": [
      "WARNING: You are using pip version 21.1.1; however, version 22.0.3 is available.\n",
      "You should consider upgrading via the 'c:\\users\\tyeec\\appdata\\local\\programs\\python\\python39\\python.exe -m pip install --upgrade pip' command.\n"
     ]
    },
    {
     "name": "stdout",
     "output_type": "stream",
     "text": [
      "Requirement already satisfied: gradio in c:\\users\\tyeec\\appdata\\local\\programs\\python\\python39\\lib\\site-packages (2.8.5)"
     ]
    },
    {
     "name": "stderr",
     "output_type": "stream",
     "text": [
      "WARNING: You are using pip version 21.1.1; however, version 22.0.3 is available.\n",
      "You should consider upgrading via the 'c:\\users\\tyeec\\appdata\\local\\programs\\python\\python39\\python.exe -m pip install --upgrade pip' command.\n"
     ]
    },
    {
     "name": "stdout",
     "output_type": "stream",
     "text": [
      "\n",
      "Requirement already satisfied: analytics-python in c:\\users\\tyeec\\appdata\\local\\programs\\python\\python39\\lib\\site-packages (from gradio) (1.4.0)\n",
      "Requirement already satisfied: paramiko in c:\\users\\tyeec\\appdata\\local\\programs\\python\\python39\\lib\\site-packages (from gradio) (2.9.2)\n",
      "Requirement already satisfied: orjson in c:\\users\\tyeec\\appdata\\local\\programs\\python\\python39\\lib\\site-packages (from gradio) (3.6.7)\n",
      "Requirement already satisfied: pycryptodome in c:\\users\\tyeec\\appdata\\local\\programs\\python\\python39\\lib\\site-packages (from gradio) (3.14.1)\n",
      "Requirement already satisfied: uvicorn in c:\\users\\tyeec\\appdata\\local\\programs\\python\\python39\\lib\\site-packages (from gradio) (0.17.5)\n",
      "Requirement already satisfied: markdown-it-py[linkify,plugins] in c:\\users\\tyeec\\appdata\\local\\programs\\python\\python39\\lib\\site-packages (from gradio) (2.0.1)\n",
      "Requirement already satisfied: pillow in c:\\users\\tyeec\\appdata\\local\\programs\\python\\python39\\lib\\site-packages (from gradio) (9.0.1)\n",
      "Requirement already satisfied: requests in c:\\users\\tyeec\\appdata\\local\\programs\\python\\python39\\lib\\site-packages (from gradio) (2.27.1)\n",
      "Requirement already satisfied: numpy in c:\\users\\tyeec\\appdata\\local\\programs\\python\\python39\\lib\\site-packages (from gradio) (1.20.2)\n",
      "Requirement already satisfied: ffmpy in c:\\users\\tyeec\\appdata\\local\\programs\\python\\python39\\lib\\site-packages (from gradio) (0.3.0)\n",
      "Requirement already satisfied: python-multipart in c:\\users\\tyeec\\appdata\\local\\programs\\python\\python39\\lib\\site-packages (from gradio) (0.0.5)\n",
      "Requirement already satisfied: fastapi in c:\\users\\tyeec\\appdata\\local\\programs\\python\\python39\\lib\\site-packages (from gradio) (0.74.1)\n",
      "Requirement already satisfied: aiohttp in c:\\users\\tyeec\\appdata\\local\\programs\\python\\python39\\lib\\site-packages (from gradio) (3.8.1)\n",
      "Requirement already satisfied: pydub in c:\\users\\tyeec\\appdata\\local\\programs\\python\\python39\\lib\\site-packages (from gradio) (0.25.1)\n",
      "Requirement already satisfied: matplotlib in c:\\users\\tyeec\\appdata\\local\\programs\\python\\python39\\lib\\site-packages (from gradio) (3.5.1)\n",
      "Requirement already satisfied: pandas in c:\\users\\tyeec\\appdata\\local\\programs\\python\\python39\\lib\\site-packages (from gradio) (1.2.4)\n",
      "Requirement already satisfied: async-timeout<5.0,>=4.0.0a3 in c:\\users\\tyeec\\appdata\\local\\programs\\python\\python39\\lib\\site-packages (from aiohttp->gradio) (4.0.2)\n",
      "Requirement already satisfied: yarl<2.0,>=1.0 in c:\\users\\tyeec\\appdata\\local\\programs\\python\\python39\\lib\\site-packages (from aiohttp->gradio) (1.7.2)\n",
      "Requirement already satisfied: attrs>=17.3.0 in c:\\users\\tyeec\\appdata\\local\\programs\\python\\python39\\lib\\site-packages (from aiohttp->gradio) (20.3.0)\n",
      "Requirement already satisfied: charset-normalizer<3.0,>=2.0 in c:\\users\\tyeec\\appdata\\local\\programs\\python\\python39\\lib\\site-packages (from aiohttp->gradio) (2.0.12)\n",
      "Requirement already satisfied: frozenlist>=1.1.1 in c:\\users\\tyeec\\appdata\\local\\programs\\python\\python39\\lib\\site-packages (from aiohttp->gradio) (1.3.0)\n",
      "Requirement already satisfied: aiosignal>=1.1.2 in c:\\users\\tyeec\\appdata\\local\\programs\\python\\python39\\lib\\site-packages (from aiohttp->gradio) (1.2.0)\n",
      "Requirement already satisfied: multidict<7.0,>=4.5 in c:\\users\\tyeec\\appdata\\local\\programs\\python\\python39\\lib\\site-packages (from aiohttp->gradio) (6.0.2)\n",
      "Requirement already satisfied: idna>=2.0 in c:\\users\\tyeec\\appdata\\local\\programs\\python\\python39\\lib\\site-packages (from yarl<2.0,>=1.0->aiohttp->gradio) (3.3)\n",
      "Requirement already satisfied: backoff==1.10.0 in c:\\users\\tyeec\\appdata\\local\\programs\\python\\python39\\lib\\site-packages (from analytics-python->gradio) (1.10.0)\n",
      "Requirement already satisfied: monotonic>=1.5 in c:\\users\\tyeec\\appdata\\local\\programs\\python\\python39\\lib\\site-packages (from analytics-python->gradio) (1.6)\n",
      "Requirement already satisfied: six>=1.5 in c:\\users\\tyeec\\appdata\\local\\programs\\python\\python39\\lib\\site-packages (from analytics-python->gradio) (1.15.0)\n",
      "Requirement already satisfied: python-dateutil>2.1 in c:\\users\\tyeec\\appdata\\local\\programs\\python\\python39\\lib\\site-packages (from analytics-python->gradio) (2.8.1)\n",
      "Requirement already satisfied: certifi>=2017.4.17 in c:\\users\\tyeec\\appdata\\local\\programs\\python\\python39\\lib\\site-packages (from requests->gradio) (2021.10.8)\n",
      "Requirement already satisfied: urllib3<1.27,>=1.21.1 in c:\\users\\tyeec\\appdata\\local\\programs\\python\\python39\\lib\\site-packages (from requests->gradio) (1.26.8)\n",
      "Requirement already satisfied: pydantic!=1.7,!=1.7.1,!=1.7.2,!=1.7.3,!=1.8,!=1.8.1,<2.0.0,>=1.6.2 in c:\\users\\tyeec\\appdata\\local\\programs\\python\\python39\\lib\\site-packages (from fastapi->gradio) (1.9.0)\n",
      "Requirement already satisfied: starlette==0.17.1 in c:\\users\\tyeec\\appdata\\local\\programs\\python\\python39\\lib\\site-packages (from fastapi->gradio) (0.17.1)\n",
      "Requirement already satisfied: anyio<4,>=3.0.0 in c:\\users\\tyeec\\appdata\\local\\programs\\python\\python39\\lib\\site-packages (from starlette==0.17.1->fastapi->gradio) (3.5.0)\n",
      "Requirement already satisfied: sniffio>=1.1 in c:\\users\\tyeec\\appdata\\local\\programs\\python\\python39\\lib\\site-packages (from anyio<4,>=3.0.0->starlette==0.17.1->fastapi->gradio) (1.2.0)\n",
      "Requirement already satisfied: typing-extensions>=3.7.4.3 in c:\\users\\tyeec\\appdata\\local\\programs\\python\\python39\\lib\\site-packages (from pydantic!=1.7,!=1.7.1,!=1.7.2,!=1.7.3,!=1.8,!=1.8.1,<2.0.0,>=1.6.2->fastapi->gradio) (4.1.1)\n",
      "Requirement already satisfied: mdurl~=0.1 in c:\\users\\tyeec\\appdata\\local\\programs\\python\\python39\\lib\\site-packages (from markdown-it-py[linkify,plugins]->gradio) (0.1.0)\n",
      "Requirement already satisfied: mdit-py-plugins in c:\\users\\tyeec\\appdata\\local\\programs\\python\\python39\\lib\\site-packages (from markdown-it-py[linkify,plugins]->gradio) (0.3.0)\n",
      "Requirement already satisfied: linkify-it-py~=1.0 in c:\\users\\tyeec\\appdata\\local\\programs\\python\\python39\\lib\\site-packages (from markdown-it-py[linkify,plugins]->gradio) (1.0.3)\n",
      "Requirement already satisfied: uc-micro-py in c:\\users\\tyeec\\appdata\\local\\programs\\python\\python39\\lib\\site-packages (from linkify-it-py~=1.0->markdown-it-py[linkify,plugins]->gradio) (1.0.1)\n",
      "Requirement already satisfied: fonttools>=4.22.0 in c:\\users\\tyeec\\appdata\\local\\programs\\python\\python39\\lib\\site-packages (from matplotlib->gradio) (4.29.1)\n",
      "Requirement already satisfied: packaging>=20.0 in c:\\users\\tyeec\\appdata\\local\\programs\\python\\python39\\lib\\site-packages (from matplotlib->gradio) (20.9)\n",
      "Requirement already satisfied: cycler>=0.10 in c:\\users\\tyeec\\appdata\\local\\programs\\python\\python39\\lib\\site-packages (from matplotlib->gradio) (0.11.0)\n",
      "Requirement already satisfied: pyparsing>=2.2.1 in c:\\users\\tyeec\\appdata\\local\\programs\\python\\python39\\lib\\site-packages (from matplotlib->gradio) (2.4.7)\n",
      "Requirement already satisfied: kiwisolver>=1.0.1 in c:\\users\\tyeec\\appdata\\local\\programs\\python\\python39\\lib\\site-packages (from matplotlib->gradio) (1.3.2)\n",
      "Requirement already satisfied: pytz>=2017.3 in c:\\users\\tyeec\\appdata\\local\\programs\\python\\python39\\lib\\site-packages (from pandas->gradio) (2021.1)\n",
      "Requirement already satisfied: pynacl>=1.0.1 in c:\\users\\tyeec\\appdata\\local\\programs\\python\\python39\\lib\\site-packages (from paramiko->gradio) (1.5.0)\n",
      "Requirement already satisfied: bcrypt>=3.1.3 in c:\\users\\tyeec\\appdata\\local\\programs\\python\\python39\\lib\\site-packages (from paramiko->gradio) (3.2.0)\n",
      "Requirement already satisfied: cryptography>=2.5 in c:\\users\\tyeec\\appdata\\local\\programs\\python\\python39\\lib\\site-packages (from paramiko->gradio) (36.0.1)\n",
      "Requirement already satisfied: cffi>=1.1 in c:\\users\\tyeec\\appdata\\local\\programs\\python\\python39\\lib\\site-packages (from bcrypt>=3.1.3->paramiko->gradio) (1.14.5)\n",
      "Requirement already satisfied: pycparser in c:\\users\\tyeec\\appdata\\local\\programs\\python\\python39\\lib\\site-packages (from cffi>=1.1->bcrypt>=3.1.3->paramiko->gradio) (2.20)\n",
      "Requirement already satisfied: click>=7.0 in c:\\users\\tyeec\\appdata\\local\\programs\\python\\python39\\lib\\site-packages (from uvicorn->gradio) (8.0.4)\n",
      "Requirement already satisfied: asgiref>=3.4.0 in c:\\users\\tyeec\\appdata\\local\\programs\\python\\python39\\lib\\site-packages (from uvicorn->gradio) (3.5.0)\n",
      "Requirement already satisfied: h11>=0.8 in c:\\users\\tyeec\\appdata\\local\\programs\\python\\python39\\lib\\site-packages (from uvicorn->gradio) (0.13.0)\n",
      "Requirement already satisfied: colorama in c:\\users\\tyeec\\appdata\\local\\programs\\python\\python39\\lib\\site-packages (from click>=7.0->uvicorn->gradio) (0.4.4)\n"
     ]
    },
    {
     "name": "stdout",
     "output_type": "stream",
     "text": [
      "Requirement already satisfied: beautifulsoup4 in c:\\users\\tyeec\\appdata\\local\\programs\\python\\python39\\lib\\site-packages (4.10.0)\n",
      "Requirement already satisfied: soupsieve>1.2 in c:\\users\\tyeec\\appdata\\local\\programs\\python\\python39\\lib\\site-packages (from beautifulsoup4) (2.3.1)\n"
     ]
    },
    {
     "name": "stderr",
     "output_type": "stream",
     "text": [
      "WARNING: You are using pip version 21.1.1; however, version 22.0.3 is available.\n",
      "You should consider upgrading via the 'c:\\users\\tyeec\\appdata\\local\\programs\\python\\python39\\python.exe -m pip install --upgrade pip' command.\n"
     ]
    }
   ],
   "source": [
    "# installing  huggingface transformers, gradio and ipywidgets\n",
    "!pip install transformers  \n",
    "!pip install ipywidgets \n",
    "!pip install gradio \n",
    "!pip install beautifulsoup4"
   ]
  },
  {
   "cell_type": "code",
   "execution_count": 3,
   "id": "1b9418ed",
   "metadata": {},
   "outputs": [],
   "source": [
    "#import gradio for UI interface\n",
    "import gradio as gradio\n",
    "\n",
    "#import the pipeline form transformers\n",
    "from transformers import pipeline \n",
    "\n",
    "#import BeautifulSoup for webscraping\n",
    "from bs4 import BeautifulSoup\n",
    "\n",
    "#import requests to make html calls to websites\n",
    "import requests"
   ]
  },
  {
   "cell_type": "markdown",
   "id": "5b7fe416",
   "metadata": {},
   "source": [
    "# Pipeline"
   ]
  },
  {
   "cell_type": "code",
   "execution_count": 4,
   "id": "9143f8ba",
   "metadata": {},
   "outputs": [
    {
     "name": "stderr",
     "output_type": "stream",
     "text": [
      "No model was supplied, defaulted to sshleifer/distilbart-cnn-12-6 (https://huggingface.co/sshleifer/distilbart-cnn-12-6)\n"
     ]
    }
   ],
   "source": [
    "# loading the summarization pipeline from huggingface transformers\n",
    "summarizer = pipeline(\"summarization\")"
   ]
  },
  {
   "cell_type": "markdown",
   "id": "a8002f76",
   "metadata": {},
   "source": [
    "# Get Post "
   ]
  },
  {
   "cell_type": "code",
   "execution_count": 16,
   "id": "4d458fc1",
   "metadata": {},
   "outputs": [],
   "source": [
    "URL = \"https://cryptohayes.medium.com/annihilation-4effdaf3c73f\"\n",
    "\n",
    "def get_article (url):\n",
    "    #gets the inforation from the URL and stores it in the variable\n",
    "    post = requests.get(url)\n",
    "    \n",
    "    #parses the data so we only get the html text\n",
    "    parsed_data = BeautifulSoup(post.text, 'html.parser')\n",
    "    \n",
    "    #parses data again to retrieve only h1 and p elements\n",
    "    results = parsed_data.find_all(['h1', 'p'])\n",
    "    \n",
    "    #gets the text from the indiviudal html elements \n",
    "    text = [result.text for result in results]  \n",
    "    \n",
    "    #joins them together \n",
    "    blog_post = ' '.join(text)\n",
    "    \n",
    "    return blog_post\n"
   ]
  },
  {
   "cell_type": "code",
   "execution_count": 29,
   "id": "885f12e4",
   "metadata": {},
   "outputs": [],
   "source": [
    "article = get_article(URL)"
   ]
  },
  {
   "cell_type": "markdown",
   "id": "ba61432b",
   "metadata": {},
   "source": [
    "# Chunking Text"
   ]
  },
  {
   "cell_type": "code",
   "execution_count": 42,
   "id": "79cf778f",
   "metadata": {},
   "outputs": [],
   "source": [
    "def chunk_text (arr):\n",
    "    curr = 0\n",
    "    chunks = []\n",
    "    \n",
    "    #setting a common separator throughout text so it will be easiar to break up in sentences\n",
    "    arr = arr.replace('.', '.*')\n",
    "    arr = arr.replace('?', '?*')\n",
    "    arr = arr.replace('!', '!*')\n",
    "    sentences = arr.split('*')\n",
    "\n",
    "    #iterates through the individual sentences\n",
    "    for sentence in sentences:\n",
    "        #checks if we have anything in our array \n",
    "        if (len(chunks) == 0 ):\n",
    "            chunks.append(sentence.split(' ')) #appends the individual words of the sentence and not the whole thing as one\n",
    "        else: \n",
    "            if (len(chunks[curr]) + len(sentence.split(' ')) <= 500):#checks if the length of the current chunk plus the new sentence will pass 500 words as the summarizer has a limit of 1024 \n",
    "                chunks[curr].extend(sentence.split(' '))# adds the new sentence words individually to the previous list instead of as a entirely new list\n",
    "            else: \n",
    "                curr+=1 #if the chunk will pass the limit increase the counter and move on to a new chunk\n",
    "                chunks.append(sentence.split(' '))\n",
    "    \n",
    "    #joining back the individual words into sentences in the different chunks\n",
    "    for i in range(len(chunks)):\n",
    "        chunks[i] = ' '.join(chunks[i])\n",
    "    \n",
    "    return chunks"
   ]
  },
  {
   "cell_type": "code",
   "execution_count": 44,
   "id": "2cd44a9b",
   "metadata": {},
   "outputs": [
    {
     "data": {
      "text/plain": [
       "8"
      ]
     },
     "execution_count": 44,
     "metadata": {},
     "output_type": "execute_result"
    }
   ],
   "source": [
    "chunk_article = chunk_text (article)"
   ]
  },
  {
   "cell_type": "markdown",
   "id": "bd898fdd",
   "metadata": {},
   "source": [
    "# Summarizing"
   ]
  },
  {
   "cell_type": "code",
   "execution_count": 46,
   "id": "c86a3928",
   "metadata": {},
   "outputs": [
    {
     "data": {
      "text/plain": [
       "' The GameStop squeeze on short-sellers is an extraordinary event in markets, where at face value, retail traders and investors have worked together in an attempt to put some of the largest wall street institutions out of business . The broking firm of most of the retail side of this warfare ‘RobinHood’ is stealing from its poor, retail investors to give to its rich, capital backers .  Victor Niederhoffer is one of the most successful people alive today . He blew his hedge fund up in 1997 in a highly statistically improbable event, in which he sold puts that were targeted by market mechanics, rather than ‘truth’ The market is more leveraged, more volatile, more aggressive, better for types of trading and worse for investing .  Greenspans moral hazard of late 1994/1995 changed the market in a new way . Extraordinary people who were never wrong in risk-adjusted terms were carried out of them horizontally by players with leverage . Financial markets were now more poker – positioning, position size and leverage – and less fundamental – what are the future cash-flows of this business?   Does this matter?  In 1998, Long Term Capital Management (LTCM) busted during the 1998 Russian financial crises, losing up to $4.6 billion USD in face value of an approximately $1 billion USD fund . LTCM was founded by a former vice-chairman of Salomon Brothers (of legendary fame in bonds) and their board included Myron S.   Scholes and Robert C. Merton of Black-Scholes fame, who won the Nobel Memorial Prize in Economic Sciences in 1997 .  The big-picture thinkers who understand macro-level knowledge in a unique and sophisticated form give way to aggressive, predatory, leveraged, profit taking machinery . The result had been written in, in 1995-2008 was one epoch . The politically connected were able to exploit event risk, with insider knowledge providing superior returns . Now in 2021 we have a new epoch: Game Stop .  The market leverage, volatility, aggression and instability that saw Victor Niederhoffer lose his fund has been normalised . There are no fundamentals. Profit is a motive, but is almost a second tier motive . There is little fear of experiencing losses, and they are interested in punitively claiming a moral victory while using the systems logic against it .  The global financial system may simply not survive this total moral failure of making it so plainly clear that two sets of rules exist, with this contradiction exposed at a very vulnerable time .  Victor is now 77 years old, with, as we described, many of those years spent in battle with the house, battling the Fed, battling trophic levels in which LTCM is bailed out and he goes under . He has 5 health procedures scheduled for tomorrow culminating in the draining of his left leg which is bigger than Game Stop rise .'"
      ]
     },
     "execution_count": 46,
     "metadata": {},
     "output_type": "execute_result"
    }
   ],
   "source": [
    "#summarize te individual chunks to summaries from 30 to 120 words in length\n",
    "chunk_summary = summarizer(chunk_article, max_length=120, min_length=30, do_sample=False)\n",
    "\n",
    "#joing the individdual chunks to make one final large summary\n",
    "summary=' '.join([s['summary_text'] for s in chunk_summary])\n",
    "\n",
    "summary"
   ]
  },
  {
   "cell_type": "markdown",
   "id": "8ce222f0",
   "metadata": {},
   "source": [
    "# Interface"
   ]
  },
  {
   "cell_type": "code",
   "execution_count": 48,
   "id": "c344e65e",
   "metadata": {},
   "outputs": [],
   "source": [
    "#building the function that will accept the blog post url and return the summary\n",
    "def summarize_post (url):\n",
    "    article = get_article(url)\n",
    "    chunk_article = chunk_text(article)\n",
    "    chunk_summary = summarizer(chunk_article, max_length=120, min_length=30, do_sample=False)\n",
    "    summary=' '.join([s['summary_text'] for s in chunk_summary])\n",
    "    return summary"
   ]
  },
  {
   "cell_type": "code",
   "execution_count": 49,
   "id": "7bd67fa1",
   "metadata": {},
   "outputs": [
    {
     "data": {
      "text/plain": [
       "\" This is for those people who want to take time off to gain a better understanding of who they are and what they care about . This is not for those taking a break solely to relax or for professors who are on real sabbaticals — though you’re welcome to read it and see if anything applies . Make sure you have the resources to take a sabbatical . Give yourself that first month to have fun .  Hiking 300 miles of the PCT was that “something new and fun” for me . Backpacking day in and day out forced me to forget about work and slow down.  Life became simpler.  Job titles, promotions, and publications didn’t matter .  When you’re trying to figure out what you care about, you need to give yourself the space to explore . Only when you get a better idea of what gives you energy can you begin to more carefully lay down a plan and set goals . With so many paths to check out, it can feel overwhelming to keep trying new things .  What do you need to feel good in your day? Do you need people to converse with?  Morning exercise?  Coffee shop vibes?  An online group?  Fellow sabbatical friends?  No technology time?  A platform to share your work?   A (flexible and not self-worth defining) goal to work toward?  We forget that things take time, and we can't move fast enough to get to where we want to be . During my sabbatical, I would often look up people that I admired and learn their backstory to remind myself that most of the time, it takes people years to reach where they are . One unexpected conversation could change everything .  Coaching was initially a hard pill to swallow, especially because I’d never spent money on my mental health before . I was lucky enough to have two very understanding coaches who gave me the opportunity to experience coaching at a discounted rate while I worked through that mental block . After many monthly coaching sessions, I can say with confidence that coaching was integral to my emotional growth . Another option is to continue your job, but spend outside time working on whatever it is you'd want to explore .\""
      ]
     },
     "execution_count": 49,
     "metadata": {},
     "output_type": "execute_result"
    }
   ],
   "source": [
    "#testing the function\n",
    "summarize_post (\"https://medium.com/@kellyhliu/7-steps-to-help-you-navigate-a-personal-sabbatical-18a7873b7f15\")"
   ]
  },
  {
   "cell_type": "code",
   "execution_count": 50,
   "id": "169f2ac5",
   "metadata": {},
   "outputs": [
    {
     "name": "stdout",
     "output_type": "stream",
     "text": [
      "Running on local URL:  http://127.0.0.1:7860/\n",
      "Running on public URL: https://26182.gradio.app\n",
      "\n",
      "This share link expires in 72 hours. For free permanent hosting, check out Spaces (https://huggingface.co/spaces)\n"
     ]
    },
    {
     "data": {
      "text/html": [
       "\n",
       "        <iframe\n",
       "            width=\"900\"\n",
       "            height=\"500\"\n",
       "            src=\"https://26182.gradio.app\"\n",
       "            frameborder=\"0\"\n",
       "            allowfullscreen\n",
       "        ></iframe>\n",
       "        "
      ],
      "text/plain": [
       "<IPython.lib.display.IFrame at 0x2105d21d850>"
      ]
     },
     "metadata": {},
     "output_type": "display_data"
    },
    {
     "data": {
      "text/plain": [
       "(<fastapi.applications.FastAPI at 0x2105030af10>,\n",
       " 'http://127.0.0.1:7860/',\n",
       " 'https://26182.gradio.app')"
      ]
     },
     "execution_count": 50,
     "metadata": {},
     "output_type": "execute_result"
    }
   ],
   "source": [
    "# creating a simple gradio interafce using the tutorial posted on https://gradio.app/docs/#i_textbox\n",
    "iface = gradio.Interface(fn=summarize_post, inputs=gradio.inputs.Textbox(lines=2, placeholder='Paste link to blog post you want summarized'),\n",
    "                        outputs='text')\n",
    "\n",
    "#settig share=True so that a temp public domain can be generated\n",
    "iface.launch(share=True)"
   ]
  },
  {
   "cell_type": "code",
   "execution_count": null,
   "id": "33cf8d39",
   "metadata": {},
   "outputs": [],
   "source": []
  }
 ],
 "metadata": {
  "kernelspec": {
   "display_name": "Python 3",
   "language": "python",
   "name": "python3"
  },
  "language_info": {
   "codemirror_mode": {
    "name": "ipython",
    "version": 3
   },
   "file_extension": ".py",
   "mimetype": "text/x-python",
   "name": "python",
   "nbconvert_exporter": "python",
   "pygments_lexer": "ipython3",
   "version": "3.9.5"
  }
 },
 "nbformat": 4,
 "nbformat_minor": 5
}
